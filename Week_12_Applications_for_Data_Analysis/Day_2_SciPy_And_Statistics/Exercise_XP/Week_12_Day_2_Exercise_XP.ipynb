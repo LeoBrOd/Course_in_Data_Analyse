{
  "nbformat": 4,
  "nbformat_minor": 0,
  "metadata": {
    "colab": {
      "provenance": []
    },
    "kernelspec": {
      "name": "python3",
      "display_name": "Python 3"
    },
    "language_info": {
      "name": "python"
    }
  },
  "cells": [
    {
      "cell_type": "markdown",
      "source": [
        "# Exercise 1 : Linear Regression Analysis"
      ],
      "metadata": {
        "id": "wbnUq8r4u_x0"
      }
    },
    {
      "cell_type": "code",
      "execution_count": 1,
      "metadata": {
        "id": "8HK6TMXuu0db"
      },
      "outputs": [],
      "source": [
        "import numpy as np\n",
        "import pandas as pd\n",
        "import matplotlib.pyplot as plt\n",
        "from scipy import stats"
      ]
    },
    {
      "cell_type": "code",
      "source": [
        "dataset={\n",
        "  \"house_sizes\": [50, 70, 80, 100, 120],\n",
        "  \"house_prices\": [150000, 200000, 210000, 250000, 280000]}"
      ],
      "metadata": {
        "id": "7g_-ciIhvNSV"
      },
      "execution_count": 6,
      "outputs": []
    },
    {
      "cell_type": "code",
      "source": [
        "data=pd.DataFrame(dataset)"
      ],
      "metadata": {
        "id": "HOAupBC1vUJ-"
      },
      "execution_count": 7,
      "outputs": []
    },
    {
      "cell_type": "code",
      "source": [
        "slope, intercept, r_value, p_value, std_err = stats.linregress(data['house_sizes'], data['house_prices'])"
      ],
      "metadata": {
        "id": "MgsDOrvpv4wA"
      },
      "execution_count": 9,
      "outputs": []
    },
    {
      "cell_type": "code",
      "source": [
        "print(\"Slope:\", slope)\n",
        "print(\"Intercept:\", intercept)"
      ],
      "metadata": {
        "colab": {
          "base_uri": "https://localhost:8080/"
        },
        "id": "nfrrZh1AwznV",
        "outputId": "fc0433c9-c89c-4092-b241-65364147b34d"
      },
      "execution_count": 10,
      "outputs": [
        {
          "output_type": "stream",
          "name": "stdout",
          "text": [
            "Slope: 1828.7671232876712\n",
            "Intercept: 64383.56164383562\n"
          ]
        }
      ]
    },
    {
      "cell_type": "markdown",
      "source": [
        "* slope represents the price increase per unit size increase.\n",
        "* intercept represents the base price (when size is zero)."
      ],
      "metadata": {
        "id": "6a1Zh4CwxSDo"
      }
    },
    {
      "cell_type": "code",
      "source": [
        "def predict_price(size):\n",
        "  return slope * size + intercept"
      ],
      "metadata": {
        "id": "RydCG_TzxCRT"
      },
      "execution_count": 11,
      "outputs": []
    },
    {
      "cell_type": "code",
      "source": [
        "price_of_house = predict_price(90)\n",
        "print(\"Price of a house with size 90 square meters:\", price_of_house)"
      ],
      "metadata": {
        "colab": {
          "base_uri": "https://localhost:8080/"
        },
        "id": "8Mc6nqRbxgOn",
        "outputId": "c29e31e4-7077-46f5-b131-2326558a1ce6"
      },
      "execution_count": 12,
      "outputs": [
        {
          "output_type": "stream",
          "name": "stdout",
          "text": [
            "Price of a house with size 90 square meters: 228972.60273972602\n"
          ]
        }
      ]
    },
    {
      "cell_type": "markdown",
      "source": [
        "In our case slope represent average difference in price of house per one size unit"
      ],
      "metadata": {
        "id": "i1tDHK6zxv6_"
      }
    },
    {
      "cell_type": "markdown",
      "source": [
        "# Exercise 2 : Understanding ANOVA"
      ],
      "metadata": {
        "id": "NVvkUITszIBR"
      }
    },
    {
      "cell_type": "code",
      "source": [
        "f_dataset={\"fertilizer_1\": [5, 6, 7, 6, 5], \"fertilizer_2\": [7, 8, 7, 9, 8], \"fertilizer_3\": [4, 5, 4, 3, 4]}\n",
        "f_data=pd.DataFrame(f_dataset)"
      ],
      "metadata": {
        "id": "fVQuBa9NzHdw"
      },
      "execution_count": 13,
      "outputs": []
    },
    {
      "cell_type": "code",
      "source": [
        "f_value, p_value=stats.f_oneway(f_data['fertilizer_1'], f_data['fertilizer_2'], f_data['fertilizer_3'])"
      ],
      "metadata": {
        "id": "bpS1-Ne0zucd"
      },
      "execution_count": 16,
      "outputs": []
    },
    {
      "cell_type": "code",
      "source": [
        "print(\"F-value:\", f_value)\n",
        "print(\"P-value:\", p_value)"
      ],
      "metadata": {
        "colab": {
          "base_uri": "https://localhost:8080/"
        },
        "id": "PlrJ10Ql0cX4",
        "outputId": "cb1d4aba-a8e2-4b05-b7b6-ab285c915b1b"
      },
      "execution_count": 17,
      "outputs": [
        {
          "output_type": "stream",
          "name": "stdout",
          "text": [
            "F-value: 28.52631578947368\n",
            "P-value: 2.7542672098048448e-05\n"
          ]
        }
      ]
    },
    {
      "cell_type": "markdown",
      "source": [
        "As we can see P-Value is less than 0.05. This means that fertilizers have different effect on plant growth.\n",
        "\n",
        "If P-Value would be greater than 0.05 it would mean that we dont have enough data to make accurate conclusion."
      ],
      "metadata": {
        "id": "yqaKpCVr1Dos"
      }
    },
    {
      "cell_type": "markdown",
      "source": [
        "# Exercise 3 : Probability Distributions"
      ],
      "metadata": {
        "id": "a813BG732XNv"
      }
    },
    {
      "cell_type": "code",
      "source": [
        "n=10 #Total number of trials\n",
        "n2=20\n",
        "p=0.5 #Probability of success\n",
        "k=5 #Expected success\n",
        "probability1=stats.binom.pmf(k,n,p)\n",
        "probability2=stats.binom.pmf(k,n2,p)\n",
        "print(\"Probability of success in first case:\", probability1)\n",
        "print(\"Probability of success in second case:\", probability2)"
      ],
      "metadata": {
        "colab": {
          "base_uri": "https://localhost:8080/"
        },
        "id": "t704KomI5z-L",
        "outputId": "b2244bf8-5107-4440-bc1c-97a0a312e897"
      },
      "execution_count": 21,
      "outputs": [
        {
          "output_type": "stream",
          "name": "stdout",
          "text": [
            "Probability of success in first case: 0.24609375000000003\n",
            "Probability of success in second case: 0.01478576660156255\n"
          ]
        }
      ]
    },
    {
      "cell_type": "markdown",
      "source": [
        "More trials don't necessarily mean a higher probability of a specific number of successes. It increases the total number of possibilities, making the specific arrangement you're interested in less likely in comparison. However, the overall probability of getting at least a certain number of successes (e.g., at least 5 heads) might increase with more trials."
      ],
      "metadata": {
        "id": "b-1AizOz7f2L"
      }
    },
    {
      "cell_type": "markdown",
      "source": [
        "# Exercise 4 : Correlation Coefficients"
      ],
      "metadata": {
        "id": "cZPP5shv72vW"
      }
    },
    {
      "cell_type": "code",
      "source": [
        "data = pd.DataFrame({'age': [23, 25, 30, 35, 40], 'income': [35000, 40000, 50000, 60000, 70000]})"
      ],
      "metadata": {
        "id": "2P4owSkn78aW"
      },
      "execution_count": 22,
      "outputs": []
    },
    {
      "cell_type": "code",
      "source": [
        "person_corr=data.corr(method='pearson')\n",
        "spearman_corr=data.corr(method='spearman')\n",
        "print(\"Pearson Correlation Coefficient:\", person_corr)\n",
        "print(\"Spearman Correlation Coefficient:\", spearman_corr)"
      ],
      "metadata": {
        "colab": {
          "base_uri": "https://localhost:8080/"
        },
        "id": "lGtgTgxQ7-Yy",
        "outputId": "9a5d0ba1-11ff-488e-99ee-6f5c503baa8f"
      },
      "execution_count": 24,
      "outputs": [
        {
          "output_type": "stream",
          "name": "stdout",
          "text": [
            "Pearson Correlation Coefficient:              age    income\n",
            "age     1.000000  0.999691\n",
            "income  0.999691  1.000000\n",
            "Spearman Correlation Coefficient:         age  income\n",
            "age     1.0     1.0\n",
            "income  1.0     1.0\n"
          ]
        }
      ]
    },
    {
      "cell_type": "code",
      "source": [
        "person_corr=stats.pearsonr(data['age'], data['income'])\n",
        "spearman_corr=stats.spearmanr(data['age'], data['income'])\n",
        "print(\"Pearson Correlation Coefficient:\", person_corr)\n",
        "print(\"Spearman Correlation Coefficient:\", spearman_corr)"
      ],
      "metadata": {
        "colab": {
          "base_uri": "https://localhost:8080/"
        },
        "id": "EQTG0iTT8ufW",
        "outputId": "820ed66a-6266-470f-ffb6-809dc33d8c1f"
      },
      "execution_count": 25,
      "outputs": [
        {
          "output_type": "stream",
          "name": "stdout",
          "text": [
            "Pearson Correlation Coefficient: PearsonRResult(statistic=0.9996907452347202, pvalue=6.528122732008978e-06)\n",
            "Spearman Correlation Coefficient: SignificanceResult(statistic=0.9999999999999999, pvalue=1.4042654220543672e-24)\n"
          ]
        }
      ]
    },
    {
      "cell_type": "markdown",
      "source": [
        "* Both correlation coefficients indicate a very strong positive relationship between age and income.\n",
        "* The p-values for both coefficients are very small, suggesting a high level of statistical significance."
      ],
      "metadata": {
        "id": "lylSVRB49ae0"
      }
    },
    {
      "cell_type": "markdown",
      "source": [
        "# Exercise 5 : Linear Relationships"
      ],
      "metadata": {
        "id": "oNwgSBpP921n"
      }
    },
    {
      "cell_type": "code",
      "source": [
        "plt.scatter(data['age'], data['income'])\n",
        "plt.xlabel('Age')\n",
        "plt.ylabel('Income')\n",
        "plt.title('Age vs Income')\n",
        "plt.grid(True)\n",
        "plt.show()"
      ],
      "metadata": {
        "colab": {
          "base_uri": "https://localhost:8080/",
          "height": 472
        },
        "id": "32SnrYkD-I3N",
        "outputId": "82ca0004-570b-4803-c3a5-b2acee37d82a"
      },
      "execution_count": 27,
      "outputs": [
        {
          "output_type": "display_data",
          "data": {
            "text/plain": [
              "<Figure size 640x480 with 1 Axes>"
            ],
            "image/png": "[encoded data removed]"
          },
          "metadata": {}
        }
      ]
    }
  ]
}