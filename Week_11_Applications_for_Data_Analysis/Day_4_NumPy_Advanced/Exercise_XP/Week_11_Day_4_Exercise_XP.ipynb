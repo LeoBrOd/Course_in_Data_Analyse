{
  "nbformat": 4,
  "nbformat_minor": 0,
  "metadata": {
    "colab": {
      "provenance": []
    },
    "kernelspec": {
      "name": "python3",
      "display_name": "Python 3"
    },
    "language_info": {
      "name": "python"
    }
  },
  "cells": [
    {
      "cell_type": "markdown",
      "source": [
        "# Exercise 1 : Matrix Operations"
      ],
      "metadata": {
        "id": "SjQlqX0ECN3D"
      }
    },
    {
      "cell_type": "markdown",
      "source": [
        "* Determinant: The determinant is a value that can be computed from the elements of a square matrix. It provides important information about the matrix, such as whether it has an inverse, and is used in various areas like linear algebra and calculus.\n",
        "* Inverse of a Matrix: The inverse of a matrix is a matrix that, when multiplied with the original matrix, results in an identity matrix. Not all matrices have inverses. The inverse is crucial in solving systems of linear equations.\n",
        "\n",
        "Create a 3x3 matrix and perform the following operations:\n",
        "\n",
        "  * Calculate the determinant.\n",
        "  * Find the inverse of the matrix."
      ],
      "metadata": {
        "id": "lVV7ycM-CRS0"
      }
    },
    {
      "cell_type": "code",
      "execution_count": 1,
      "metadata": {
        "id": "Bmi3MffxAYkP"
      },
      "outputs": [],
      "source": [
        "import numpy as np"
      ]
    },
    {
      "cell_type": "code",
      "source": [
        "matrix = np.array([[range(11,20)]]).reshape(3,3)\n",
        "determinant = np.linalg.det(matrix)\n",
        "print(\"Matrix:\\n\", matrix)\n",
        "print(\"Determinant:\", determinant)\n",
        "# to inverse the matrix, determinant shouldn`t be equal 0\n",
        "inv_matrix = np.linalg.inv(matrix)\n",
        "print(\"Inverse of the matrix:\\n\",inv_matrix)"
      ],
      "metadata": {
        "colab": {
          "base_uri": "https://localhost:8080/"
        },
        "id": "nnnedp2TClPJ",
        "outputId": "c08d14c3-acc1-48a0-9b1f-78d2e3a3b557"
      },
      "execution_count": 2,
      "outputs": [
        {
          "output_type": "stream",
          "name": "stdout",
          "text": [
            "Matrix:\n",
            " [[11 12 13]\n",
            " [14 15 16]\n",
            " [17 18 19]]\n",
            "Determinant: -2.131628207280298e-14\n",
            "Inverse of the matrix:\n",
            " [[ 1.40737488e+14 -2.81474977e+14  1.40737488e+14]\n",
            " [-2.81474977e+14  5.62949953e+14 -2.81474977e+14]\n",
            " [ 1.40737488e+14 -2.81474977e+14  1.40737488e+14]]\n"
          ]
        }
      ]
    },
    {
      "cell_type": "markdown",
      "source": [
        "# Exercise 2 : Statistical Analysis"
      ],
      "metadata": {
        "id": "xlZXF89TFArH"
      }
    },
    {
      "cell_type": "code",
      "source": [
        "n_array=np.random.normal(size=50)\n",
        "np.random.seed(100)\n",
        "mean=np.mean(n_array)\n",
        "median=np.median(n_array)\n",
        "std=np.std(n_array)\n",
        "print(\"Array:\\n\",n_array)\n",
        "print(\"Mean:\", mean)\n",
        "print(\"Median:\", median)\n",
        "print(\"Standard Deviation:\", std)"
      ],
      "metadata": {
        "colab": {
          "base_uri": "https://localhost:8080/"
        },
        "id": "8fd5ZpMIE9pL",
        "outputId": "3f507f40-ef1a-41ab-d768-7f59ec074176"
      },
      "execution_count": 3,
      "outputs": [
        {
          "output_type": "stream",
          "name": "stdout",
          "text": [
            "Array:\n",
            " [-0.10064532  0.76973378 -1.54222843 -1.23515002  0.71876116  0.4868901\n",
            "  0.70398517  1.86122231  0.48207609 -0.51081375 -0.45336633  1.49275004\n",
            " -0.41246799 -0.51262344  0.28733846  1.15769403  0.79032802 -0.39246814\n",
            " -1.26062631  1.63258333  2.22785904  1.49846066  0.51235776  1.23661314\n",
            " -0.21796327 -0.52044755  0.73429279 -0.07933955  1.08983101 -0.65230387\n",
            "  0.29891359 -1.06027931  0.6694006   0.19257143 -1.24293694 -1.37332512\n",
            "  1.26524524  0.57993963  0.85079192  0.75037825  0.72253688  0.3566509\n",
            " -1.48869759  0.18494324 -1.16939952  0.26520416  0.8549723   2.07066128\n",
            "  1.04706061  0.67860324]\n",
            "Mean: 0.2849113540326882\n",
            "Median: 0.4844830937924934\n",
            "Standard Deviation: 0.9562602660738445\n"
          ]
        }
      ]
    },
    {
      "cell_type": "markdown",
      "source": [
        "# Exercise 3 : Date Manipulation"
      ],
      "metadata": {
        "id": "_ueThFvIGMTF"
      }
    },
    {
      "cell_type": "code",
      "source": [
        "import pandas as pd"
      ],
      "metadata": {
        "id": "cqYxiJf7a8wH"
      },
      "execution_count": 4,
      "outputs": []
    },
    {
      "cell_type": "code",
      "source": [
        "dates_ar=np.arange('2023-01-01', '2023-01-31', dtype='datetime64[D]')\n",
        "print(\"Dates:\\n\",dates_ar)\n",
        "dates_df = pd.to_datetime(dates_ar)\n",
        "dates_str = dates_df.strftime('%Y/%m/%d')\n",
        "print(\"Formated Dates:\\n\",dates_str)"
      ],
      "metadata": {
        "colab": {
          "base_uri": "https://localhost:8080/"
        },
        "id": "ztvago-WGGao",
        "outputId": "5045ab5e-fd98-463b-a9d9-590187c28c59"
      },
      "execution_count": 5,
      "outputs": [
        {
          "output_type": "stream",
          "name": "stdout",
          "text": [
            "Dates:\n",
            " ['2023-01-01' '2023-01-02' '2023-01-03' '2023-01-04' '2023-01-05'\n",
            " '2023-01-06' '2023-01-07' '2023-01-08' '2023-01-09' '2023-01-10'\n",
            " '2023-01-11' '2023-01-12' '2023-01-13' '2023-01-14' '2023-01-15'\n",
            " '2023-01-16' '2023-01-17' '2023-01-18' '2023-01-19' '2023-01-20'\n",
            " '2023-01-21' '2023-01-22' '2023-01-23' '2023-01-24' '2023-01-25'\n",
            " '2023-01-26' '2023-01-27' '2023-01-28' '2023-01-29' '2023-01-30']\n",
            "Formated Dates:\n",
            " Index(['2023/01/01', '2023/01/02', '2023/01/03', '2023/01/04', '2023/01/05',\n",
            "       '2023/01/06', '2023/01/07', '2023/01/08', '2023/01/09', '2023/01/10',\n",
            "       '2023/01/11', '2023/01/12', '2023/01/13', '2023/01/14', '2023/01/15',\n",
            "       '2023/01/16', '2023/01/17', '2023/01/18', '2023/01/19', '2023/01/20',\n",
            "       '2023/01/21', '2023/01/22', '2023/01/23', '2023/01/24', '2023/01/25',\n",
            "       '2023/01/26', '2023/01/27', '2023/01/28', '2023/01/29', '2023/01/30'],\n",
            "      dtype='object')\n"
          ]
        }
      ]
    },
    {
      "cell_type": "markdown",
      "source": [
        "# Exercise 4 : Data Manipulation With NumPy And Pandas"
      ],
      "metadata": {
        "id": "VxUbzL_Gbw55"
      }
    },
    {
      "cell_type": "code",
      "source": [
        "x = np.arange(6)\n",
        "condlist = [x<2, x>3]\n",
        "choicelist = [x, x**2]\n",
        "result=np.select(condlist, choicelist, 30)\n",
        "print(\"Array:\\n\",x)\n",
        "print(\"Result:\\n\",result)\n",
        "x_sum= np.sum(x)\n",
        "result_sum=np.sum(result)\n",
        "print(\"Sum of x:\", x_sum)\n",
        "print(\"Sum of Result:\", result_sum)\n",
        "x_avg= np.mean(x)\n",
        "result_avg=np.mean(result)\n",
        "print(\"Average of x:\", x_avg)\n",
        "print(\"Average of Result:\", result_avg)"
      ],
      "metadata": {
        "colab": {
          "base_uri": "https://localhost:8080/"
        },
        "id": "EA9UbPJib5zN",
        "outputId": "4b19ca52-b400-47ed-f8cb-a74bda14eb79"
      },
      "execution_count": 6,
      "outputs": [
        {
          "output_type": "stream",
          "name": "stdout",
          "text": [
            "Array:\n",
            " [0 1 2 3 4 5]\n",
            "Result:\n",
            " [ 0  1 30 30 16 25]\n",
            "Sum of x: 15\n",
            "Sum of Result: 102\n",
            "Average of x: 2.5\n",
            "Average of Result: 17.0\n"
          ]
        }
      ]
    },
    {
      "cell_type": "markdown",
      "source": [
        "# Exercise 5 : Image Representation"
      ],
      "metadata": {
        "id": "kUMTMJiAedaL"
      }
    },
    {
      "cell_type": "markdown",
      "source": [
        "Explain how images are represented in NumPy arrays and demonstrate with a simple example (e.g., creating a 5x5 grayscale image)."
      ],
      "metadata": {
        "id": "bz6QFPtyeh8J"
      }
    },
    {
      "cell_type": "markdown",
      "source": [
        "Images are represented in NumPy arrays as multi-dimensional arrays, where each element corresponds to the intensity or color value of a pixel in the image. The dimensions of the array depend on the image characteristics:\n",
        "\n",
        "1. Grayscale Images:\n",
        "\n",
        "  * A grayscale image has a single channel representing the intensity (brightness) of each pixel.\n",
        "  * A 5x5 grayscale image would be represented by a 2D NumPy array of size (5, 5).\n",
        "  * Each element in the array holds the intensity value (usually between 0 and 255 for 8-bit images, where 0 is black and 255 is white).\n",
        "\n",
        "2. Color Images (RGB):\n",
        "\n",
        "  * Color images typically use three channels: Red (R), Green (G), and Blue (B) to represent color information for each pixel.\n",
        "  * An RGB image would be represented by a 3D NumPy array of size (height, width, channels).\n",
        " * The first dimension (height) corresponds to the number of rows in the image.\n",
        "  * The second dimension (width) corresponds to the number of columns in the image.\n",
        "  * The third dimension (channels) has size 3, representing the R, G, and B values."
      ],
      "metadata": {
        "id": "T8yh7vaBe0CV"
      }
    },
    {
      "cell_type": "code",
      "source": [
        "grayscale_image = np.random.randint(low=50, high=201, size=(20, 20))\n",
        "print(grayscale_image)"
      ],
      "metadata": {
        "colab": {
          "base_uri": "https://localhost:8080/"
        },
        "collapsed": true,
        "id": "pBKLq3A3fdrm",
        "outputId": "75e2b156-484b-42d3-d965-9dffe3927877"
      },
      "execution_count": 7,
      "outputs": [
        {
          "output_type": "stream",
          "name": "stdout",
          "text": [
            "[[ 58  74 117 153 137 129 188 144 148 103 116  64  84  74 193 157 110 108\n",
            "  194 187]\n",
            " [143 136 180 158 182 179 191 150  54 141 117 185  99 111  64 130  52 171\n",
            "  155 197]\n",
            " [113  77 106 163  97 159  88  68  67 122  63 156  80  67 103 118 141 128\n",
            "   50  63]\n",
            " [156 181 120 181 188 181 155  93  86  55 121  88 144 134 145 164 169 126\n",
            "   83 108]\n",
            " [152 200  50 197 103 100  59  71  56 152 172 166  89 157 101  80 171 116\n",
            "   67  95]\n",
            " [139  85  66  62 136 159 117  70 188  58 190 196 143 169 142  94 107 177\n",
            "   50 123]\n",
            " [116 194 183 140  84 144 127 179  64 165  83 198  74  78 185  52 113 163\n",
            "  180 195]\n",
            " [124  80 117 132 195 188 191 131 167  75 193 158 172  61 151  88 166  72\n",
            "  105 107]\n",
            " [137 195  92 143 194 101 133 150  92  87 162 163 149  52 112 149  66 120\n",
            "  103 187]\n",
            " [103 161 181 152 189  99  79  86 143 163 102 135 142 165 176 118 169 121\n",
            "  111 143]\n",
            " [ 86 173  92  63  98  82  88  90 143 192  88 166 178 154 154 151  91 197\n",
            "  116 191]\n",
            " [137 115 118 178 137 133  60 115 180  89  86  85 149  76 197 182  89 124\n",
            "  102 191]\n",
            " [193 195 138 109  58 127  97  75 162  60  88 151 110 195  65 135 167 197\n",
            "  198 181]\n",
            " [151  61 162  98 184 195 155  50 171 173 160  77 120 151  95  89 138 110\n",
            "  130 171]\n",
            " [ 84  66  97 177 181 169 165  55 114  95 187 191 117 176 129 132 134 129\n",
            "  191 125]\n",
            " [ 99 138 131  89 174  88 138 197  71  50 123 179  86  83 146 136 171 136\n",
            "  184 181]\n",
            " [ 78  85  69 172 100  96 121  99 127 126 149  52 171 111 110 196  85 180\n",
            "  105 146]\n",
            " [113 120 176 157 132 126  67  83  68 116 163  57 150 179 127 142 194 146\n",
            "   70 132]\n",
            " [ 73 149  57 127  97  68  93 137 142  51 141  91 200 127 139 161 187 100\n",
            "  112  99]\n",
            " [ 64 140  51 185 113 170  97 163 154  76 132 194 101 137  60 148 178  51\n",
            "  182 108]]\n"
          ]
        }
      ]
    },
    {
      "cell_type": "code",
      "source": [
        "import matplotlib.pyplot as plt"
      ],
      "metadata": {
        "id": "DvrAc_ZMf46Z"
      },
      "execution_count": 8,
      "outputs": []
    },
    {
      "cell_type": "code",
      "source": [
        "plt.imshow(grayscale_image, cmap='coolwarm_r', aspect='auto')\n",
        "plt.title('Grayscale Image Represented by NumPy Array')\n",
        "plt.show()"
      ],
      "metadata": {
        "colab": {
          "base_uri": "https://localhost:8080/",
          "height": 452
        },
        "id": "AvsqrMEdf6Sp",
        "outputId": "8bacb4fb-7dbb-4955-c9ad-ae6892831ff7"
      },
      "execution_count": 9,
      "outputs": [
        {
          "output_type": "display_data",
          "data": {
            "text/plain": [
              "<Figure size 640x480 with 1 Axes>"
            ],
            "image/png": "[encoded data removed]"
          },
          "metadata": {}
        }
      ]
    },
    {
      "cell_type": "markdown",
      "source": [
        "# Exercise 6 : Basic Hypothesis Testing"
      ],
      "metadata": {
        "id": "2qEKE72SvPw7"
      }
    },
    {
      "cell_type": "code",
      "source": [
        "# Productivity scores of employees before the training program\n",
        "productivity_before = np.random.normal(loc=50, scale=10, size=30)\n",
        "\n",
        "# Productivity scores of the same employees after the training program\n",
        "productivity_after = productivity_before + np.random.normal(loc=5, scale=3, size=30)\n",
        "\n",
        "# Your task is to formulate a hypothesis regarding the training program's effectiveness\n",
        "# and test it using basic statistical functions in NumPy."
      ],
      "metadata": {
        "id": "_R_Z_3TPvbtd"
      },
      "execution_count": 10,
      "outputs": []
    },
    {
      "cell_type": "code",
      "source": [
        "from scipy import stats"
      ],
      "metadata": {
        "id": "OJKKLPtJvfJF"
      },
      "execution_count": 11,
      "outputs": []
    },
    {
      "cell_type": "code",
      "source": [
        "effectiveness= stats.ttest_rel(productivity_before, productivity_after)\n",
        "print(\"Productivity Before:\", productivity_before)\n",
        "print(\"Productivity After:\", productivity_after)\n",
        "print(\"T-test Result:\", effectiveness)"
      ],
      "metadata": {
        "colab": {
          "base_uri": "https://localhost:8080/"
        },
        "id": "f9ueYhYxv1sS",
        "outputId": "c2165df5-d0ab-4f17-a575-8aa0d6afd4d1"
      },
      "execution_count": 13,
      "outputs": [
        {
          "output_type": "stream",
          "name": "stdout",
          "text": [
            "Productivity Before: [55.16564756 54.02166305 52.37353815 64.43684792 21.87796028 36.77050223\n",
            " 65.97350727 65.91888511 30.50082169 50.44158066 57.91190519 50.76996967\n",
            " 49.17084128 53.74415663 55.35306316 61.83821335 55.82998115 45.04242266\n",
            " 59.35906259 42.85716128 38.61461384 50.14692828 51.31087813 52.84071305\n",
            " 54.47591797 68.64490427 50.30021005 49.91862189 55.04537877 34.00746413]\n",
            "Productivity After: [68.80648931 61.06244683 54.09226456 70.97216305 24.76219163 40.39822005\n",
            " 68.63235977 69.99998485 31.17923537 50.9055391  59.36365244 58.06720732\n",
            " 52.05538763 59.59496475 57.59816279 67.40486119 64.24740888 58.39138642\n",
            " 63.16776155 42.37396037 43.91774184 53.73441496 56.31155569 57.65409575\n",
            " 57.31802857 73.65338258 55.69206949 56.54087849 58.74843492 44.99991478]\n",
            "T-test Result: TtestResult(statistic=-7.900421572446154, pvalue=1.0314952859552949e-08, df=29)\n"
          ]
        }
      ]
    },
    {
      "cell_type": "code",
      "source": [
        "dif= productivity_before - productivity_after\n",
        "t_stat, p_value = stats.ttest_rel(productivity_before, productivity_after)\n",
        "alpha=0.05\n",
        "if p_value < alpha:\n",
        "    print(\"Reject the null hypothesis. The training program has a significant positive effect on productivity.\")\n",
        "else:\n",
        "    print(\"Fail to reject the null hypothesis. There is no significant evidence that the training program improved productivity.\")\n",
        "\n",
        "print(\"t-statistic:\", t_stat)\n",
        "print(\"p-value:\", p_value)"
      ],
      "metadata": {
        "colab": {
          "base_uri": "https://localhost:8080/"
        },
        "id": "m0NVFFrcxBqy",
        "outputId": "49f7f5c9-32e2-42ef-ca1a-50b1bcfa9725"
      },
      "execution_count": 14,
      "outputs": [
        {
          "output_type": "stream",
          "name": "stdout",
          "text": [
            "Reject the null hypothesis. The training program has a significant positive effect on productivity.\n",
            "t-statistic: -7.900421572446154\n",
            "p-value: 1.0314952859552949e-08\n"
          ]
        }
      ]
    },
    {
      "cell_type": "markdown",
      "source": [
        "# Exercise 7 : Complex Array Comparison"
      ],
      "metadata": {
        "id": "GmtSfXjhxvli"
      }
    },
    {
      "cell_type": "markdown",
      "source": [
        "Create two arrays and perform element-wise comparison to find which elements are greater in the first array.\n",
        "\n",
        "The expected output is a boolean array showing which elements in the first array are greater than the corresponding elements in the second array."
      ],
      "metadata": {
        "id": "QlKPuzx2x0u_"
      }
    },
    {
      "cell_type": "code",
      "source": [
        "f_ar=np.array([1,3,5,7,9])\n",
        "s_ar=np.array([10,8,6,4,2])\n",
        "comparison=f_ar>s_ar\n",
        "print(\"First Array:\\n\",f_ar)\n",
        "print(\"Second Array:\\n\",s_ar)\n",
        "print(\"Result:\\n\",comparison)"
      ],
      "metadata": {
        "colab": {
          "base_uri": "https://localhost:8080/"
        },
        "id": "zn-gB-vKxzvN",
        "outputId": "98dc2737-8e28-44bf-afd7-105a782b0c74"
      },
      "execution_count": 17,
      "outputs": [
        {
          "output_type": "stream",
          "name": "stdout",
          "text": [
            "First Array:\n",
            " [1 3 5 7 9]\n",
            "Second Array:\n",
            " [10  8  6  4  2]\n",
            "Result:\n",
            " [False False False  True  True]\n"
          ]
        }
      ]
    },
    {
      "cell_type": "markdown",
      "source": [
        "# Exercise 8 : Time Series Data Manipulation"
      ],
      "metadata": {
        "id": "Mm7Z0uWJyhaQ"
      }
    },
    {
      "cell_type": "markdown",
      "source": [
        "Generate time series data for the year 2023. Demonstrate slicing for the following intervals:\n",
        "\n",
        "  * January to March\n",
        "  * April to June\n",
        "  * July to September\n",
        "  * October to December\n",
        "  \n",
        "Generate a time series data for a specific period and demonstrate how to slice this data for different intervals."
      ],
      "metadata": {
        "id": "NX6DzEXxyl2B"
      }
    },
    {
      "cell_type": "code",
      "source": [
        "ts=np.arange('2023-01-01', '2023-12-31', dtype='datetime64[D]')\n",
        "q1=ts[ts<np.datetime64(\"2023-04-01\")]\n",
        "q2=ts[(ts>=np.datetime64(\"2023-04-01\")) & (ts<np.datetime64(\"2023-07-01\"))]\n",
        "q3=ts[(ts>=np.datetime64(\"2023-07-01\")) & (ts<np.datetime64(\"2023-10-01\"))]\n",
        "q4=ts[ts>=np.datetime64(\"2023-10-01\")]\n",
        "print(\"January to March:\\n\",q1)\n",
        "print(\"April to June:\\n\",q2)\n",
        "print(\"July to September:\\n\",q3)\n",
        "print(\"October to December:\\n\",q4)"
      ],
      "metadata": {
        "colab": {
          "base_uri": "https://localhost:8080/"
        },
        "collapsed": true,
        "id": "7PJfiI4AzA6l",
        "outputId": "91379591-b977-4584-aae0-c026fc466fd4"
      },
      "execution_count": 29,
      "outputs": [
        {
          "output_type": "stream",
          "name": "stdout",
          "text": [
            "January to March:\n",
            " ['2023-01-01' '2023-01-02' '2023-01-03' '2023-01-04' '2023-01-05'\n",
            " '2023-01-06' '2023-01-07' '2023-01-08' '2023-01-09' '2023-01-10'\n",
            " '2023-01-11' '2023-01-12' '2023-01-13' '2023-01-14' '2023-01-15'\n",
            " '2023-01-16' '2023-01-17' '2023-01-18' '2023-01-19' '2023-01-20'\n",
            " '2023-01-21' '2023-01-22' '2023-01-23' '2023-01-24' '2023-01-25'\n",
            " '2023-01-26' '2023-01-27' '2023-01-28' '2023-01-29' '2023-01-30'\n",
            " '2023-01-31' '2023-02-01' '2023-02-02' '2023-02-03' '2023-02-04'\n",
            " '2023-02-05' '2023-02-06' '2023-02-07' '2023-02-08' '2023-02-09'\n",
            " '2023-02-10' '2023-02-11' '2023-02-12' '2023-02-13' '2023-02-14'\n",
            " '2023-02-15' '2023-02-16' '2023-02-17' '2023-02-18' '2023-02-19'\n",
            " '2023-02-20' '2023-02-21' '2023-02-22' '2023-02-23' '2023-02-24'\n",
            " '2023-02-25' '2023-02-26' '2023-02-27' '2023-02-28' '2023-03-01'\n",
            " '2023-03-02' '2023-03-03' '2023-03-04' '2023-03-05' '2023-03-06'\n",
            " '2023-03-07' '2023-03-08' '2023-03-09' '2023-03-10' '2023-03-11'\n",
            " '2023-03-12' '2023-03-13' '2023-03-14' '2023-03-15' '2023-03-16'\n",
            " '2023-03-17' '2023-03-18' '2023-03-19' '2023-03-20' '2023-03-21'\n",
            " '2023-03-22' '2023-03-23' '2023-03-24' '2023-03-25' '2023-03-26'\n",
            " '2023-03-27' '2023-03-28' '2023-03-29' '2023-03-30' '2023-03-31']\n",
            "April to June:\n",
            " ['2023-04-01' '2023-04-02' '2023-04-03' '2023-04-04' '2023-04-05'\n",
            " '2023-04-06' '2023-04-07' '2023-04-08' '2023-04-09' '2023-04-10'\n",
            " '2023-04-11' '2023-04-12' '2023-04-13' '2023-04-14' '2023-04-15'\n",
            " '2023-04-16' '2023-04-17' '2023-04-18' '2023-04-19' '2023-04-20'\n",
            " '2023-04-21' '2023-04-22' '2023-04-23' '2023-04-24' '2023-04-25'\n",
            " '2023-04-26' '2023-04-27' '2023-04-28' '2023-04-29' '2023-04-30'\n",
            " '2023-05-01' '2023-05-02' '2023-05-03' '2023-05-04' '2023-05-05'\n",
            " '2023-05-06' '2023-05-07' '2023-05-08' '2023-05-09' '2023-05-10'\n",
            " '2023-05-11' '2023-05-12' '2023-05-13' '2023-05-14' '2023-05-15'\n",
            " '2023-05-16' '2023-05-17' '2023-05-18' '2023-05-19' '2023-05-20'\n",
            " '2023-05-21' '2023-05-22' '2023-05-23' '2023-05-24' '2023-05-25'\n",
            " '2023-05-26' '2023-05-27' '2023-05-28' '2023-05-29' '2023-05-30'\n",
            " '2023-05-31' '2023-06-01' '2023-06-02' '2023-06-03' '2023-06-04'\n",
            " '2023-06-05' '2023-06-06' '2023-06-07' '2023-06-08' '2023-06-09'\n",
            " '2023-06-10' '2023-06-11' '2023-06-12' '2023-06-13' '2023-06-14'\n",
            " '2023-06-15' '2023-06-16' '2023-06-17' '2023-06-18' '2023-06-19'\n",
            " '2023-06-20' '2023-06-21' '2023-06-22' '2023-06-23' '2023-06-24'\n",
            " '2023-06-25' '2023-06-26' '2023-06-27' '2023-06-28' '2023-06-29'\n",
            " '2023-06-30']\n",
            "July to September:\n",
            " ['2023-07-01' '2023-07-02' '2023-07-03' '2023-07-04' '2023-07-05'\n",
            " '2023-07-06' '2023-07-07' '2023-07-08' '2023-07-09' '2023-07-10'\n",
            " '2023-07-11' '2023-07-12' '2023-07-13' '2023-07-14' '2023-07-15'\n",
            " '2023-07-16' '2023-07-17' '2023-07-18' '2023-07-19' '2023-07-20'\n",
            " '2023-07-21' '2023-07-22' '2023-07-23' '2023-07-24' '2023-07-25'\n",
            " '2023-07-26' '2023-07-27' '2023-07-28' '2023-07-29' '2023-07-30'\n",
            " '2023-07-31' '2023-08-01' '2023-08-02' '2023-08-03' '2023-08-04'\n",
            " '2023-08-05' '2023-08-06' '2023-08-07' '2023-08-08' '2023-08-09'\n",
            " '2023-08-10' '2023-08-11' '2023-08-12' '2023-08-13' '2023-08-14'\n",
            " '2023-08-15' '2023-08-16' '2023-08-17' '2023-08-18' '2023-08-19'\n",
            " '2023-08-20' '2023-08-21' '2023-08-22' '2023-08-23' '2023-08-24'\n",
            " '2023-08-25' '2023-08-26' '2023-08-27' '2023-08-28' '2023-08-29'\n",
            " '2023-08-30' '2023-08-31' '2023-09-01' '2023-09-02' '2023-09-03'\n",
            " '2023-09-04' '2023-09-05' '2023-09-06' '2023-09-07' '2023-09-08'\n",
            " '2023-09-09' '2023-09-10' '2023-09-11' '2023-09-12' '2023-09-13'\n",
            " '2023-09-14' '2023-09-15' '2023-09-16' '2023-09-17' '2023-09-18'\n",
            " '2023-09-19' '2023-09-20' '2023-09-21' '2023-09-22' '2023-09-23'\n",
            " '2023-09-24' '2023-09-25' '2023-09-26' '2023-09-27' '2023-09-28'\n",
            " '2023-09-29' '2023-09-30']\n",
            "October to December:\n",
            " ['2023-10-01' '2023-10-02' '2023-10-03' '2023-10-04' '2023-10-05'\n",
            " '2023-10-06' '2023-10-07' '2023-10-08' '2023-10-09' '2023-10-10'\n",
            " '2023-10-11' '2023-10-12' '2023-10-13' '2023-10-14' '2023-10-15'\n",
            " '2023-10-16' '2023-10-17' '2023-10-18' '2023-10-19' '2023-10-20'\n",
            " '2023-10-21' '2023-10-22' '2023-10-23' '2023-10-24' '2023-10-25'\n",
            " '2023-10-26' '2023-10-27' '2023-10-28' '2023-10-29' '2023-10-30'\n",
            " '2023-10-31' '2023-11-01' '2023-11-02' '2023-11-03' '2023-11-04'\n",
            " '2023-11-05' '2023-11-06' '2023-11-07' '2023-11-08' '2023-11-09'\n",
            " '2023-11-10' '2023-11-11' '2023-11-12' '2023-11-13' '2023-11-14'\n",
            " '2023-11-15' '2023-11-16' '2023-11-17' '2023-11-18' '2023-11-19'\n",
            " '2023-11-20' '2023-11-21' '2023-11-22' '2023-11-23' '2023-11-24'\n",
            " '2023-11-25' '2023-11-26' '2023-11-27' '2023-11-28' '2023-11-29'\n",
            " '2023-11-30' '2023-12-01' '2023-12-02' '2023-12-03' '2023-12-04'\n",
            " '2023-12-05' '2023-12-06' '2023-12-07' '2023-12-08' '2023-12-09'\n",
            " '2023-12-10' '2023-12-11' '2023-12-12' '2023-12-13' '2023-12-14'\n",
            " '2023-12-15' '2023-12-16' '2023-12-17' '2023-12-18' '2023-12-19'\n",
            " '2023-12-20' '2023-12-21' '2023-12-22' '2023-12-23' '2023-12-24'\n",
            " '2023-12-25' '2023-12-26' '2023-12-27' '2023-12-28' '2023-12-29'\n",
            " '2023-12-30']\n"
          ]
        }
      ]
    },
    {
      "cell_type": "markdown",
      "source": [
        "# Exercise 9 : Data Conversion"
      ],
      "metadata": {
        "id": "yGhyeiNdHyq2"
      }
    },
    {
      "cell_type": "markdown",
      "source": [
        "Demonstrate how to convert a NumPy array to a Pandas DataFrame and vice versa."
      ],
      "metadata": {
        "id": "by3D22bNH1tW"
      }
    },
    {
      "cell_type": "code",
      "source": [
        "ar=np.arange(1,5)\n",
        "df=pd.DataFrame(ar)\n",
        "print(\"Array:\\n\",ar)\n",
        "print(\"DataFrame:\\n\",df)\n",
        "new_ar=df.to_numpy()\n",
        "print(\"New Array:\\n\",new_ar)"
      ],
      "metadata": {
        "colab": {
          "base_uri": "https://localhost:8080/"
        },
        "id": "dZcRdmUzHxiU",
        "outputId": "83207df6-f04b-4d0c-b630-7666d807d4c2"
      },
      "execution_count": 32,
      "outputs": [
        {
          "output_type": "stream",
          "name": "stdout",
          "text": [
            "Array:\n",
            " [1 2 3 4]\n",
            "DataFrame:\n",
            "    0\n",
            "0  1\n",
            "1  2\n",
            "2  3\n",
            "3  4\n",
            "New Array:\n",
            " [[1]\n",
            " [2]\n",
            " [3]\n",
            " [4]]\n"
          ]
        }
      ]
    },
    {
      "cell_type": "markdown",
      "source": [
        "# Exercise 10 : Basic Visualization"
      ],
      "metadata": {
        "id": "RryA-6tbIUY3"
      }
    },
    {
      "cell_type": "markdown",
      "source": [
        "Use Matplotlib to visualize a simple dataset created with NumPy (e.g., a line graph of random numbers)."
      ],
      "metadata": {
        "id": "evHq0VR7IYDR"
      }
    },
    {
      "cell_type": "code",
      "source": [
        "new_ar=np.random.normal(size=10)\n",
        "print(\"Generated array\\n\", new_ar)\n",
        "plt.plot(new_ar)"
      ],
      "metadata": {
        "colab": {
          "base_uri": "https://localhost:8080/",
          "height": 504
        },
        "id": "PciE_e_uIY5P",
        "outputId": "03e4edf8-8d41-454f-bb5f-bac0664eac4b"
      },
      "execution_count": 36,
      "outputs": [
        {
          "output_type": "stream",
          "name": "stdout",
          "text": [
            "Generated array\n",
            " [ 1.39146772  0.10913189 -0.40414071  0.34918246  0.15584353 -0.33460119\n",
            " -0.85832431  0.38211055 -0.36989407 -0.34443312]\n"
          ]
        },
        {
          "output_type": "execute_result",
          "data": {
            "text/plain": [
              "[<matplotlib.lines.Line2D at 0x7c561eb32d10>]"
            ]
          },
          "metadata": {},
          "execution_count": 36
        },
        {
          "output_type": "display_data",
          "data": {
            "text/plain": [
              "<Figure size 640x480 with 1 Axes>"
            ],
            "image/png": "[encoded data removed]"
          },
          "metadata": {}
        }
      ]
    }
  ]
}