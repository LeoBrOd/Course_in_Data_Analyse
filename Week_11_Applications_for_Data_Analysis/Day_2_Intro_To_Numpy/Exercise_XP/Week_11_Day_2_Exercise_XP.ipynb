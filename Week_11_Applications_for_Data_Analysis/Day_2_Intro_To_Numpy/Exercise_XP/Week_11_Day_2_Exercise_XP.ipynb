{
  "nbformat": 4,
  "nbformat_minor": 0,
  "metadata": {
    "colab": {
      "provenance": []
    },
    "kernelspec": {
      "name": "python3",
      "display_name": "Python 3"
    },
    "language_info": {
      "name": "python"
    }
  },
  "cells": [
    {
      "cell_type": "code",
      "execution_count": 1,
      "metadata": {
        "id": "xchh3lGJusGF"
      },
      "outputs": [],
      "source": [
        "import numpy as np"
      ]
    },
    {
      "cell_type": "markdown",
      "source": [
        "Exercise 1 : Array Creation And Manipulation\n",
        "\n",
        "Create a 1D NumPy array containing numbers from 0 to 9."
      ],
      "metadata": {
        "id": "Lyuidi-qlR3f"
      }
    },
    {
      "cell_type": "code",
      "source": [
        "ar=np.array([range(0,10)])\n",
        "print(ar)"
      ],
      "metadata": {
        "colab": {
          "base_uri": "https://localhost:8080/"
        },
        "id": "QNqjjCuVjI0o",
        "outputId": "c4edf998-7b70-4109-d93b-beac1297d13d"
      },
      "execution_count": 15,
      "outputs": [
        {
          "output_type": "stream",
          "name": "stdout",
          "text": [
            "[[0 1 2 3 4 5 6 7 8 9]]\n"
          ]
        }
      ]
    },
    {
      "cell_type": "markdown",
      "source": [
        " Exercise 2 : Type Conversion And Array Operations\n",
        "\n",
        " Convert a list [3.14, 2.17, 0, 1, 2] into a NumPy array and convert its data type to integer."
      ],
      "metadata": {
        "id": "aBr-7oK-lTN3"
      }
    },
    {
      "cell_type": "code",
      "source": [
        "l=[3.14, 2.17, 0, 1, 2]\n",
        "list_to_ar=np.array(l,dtype=int)\n",
        "print(ar)"
      ],
      "metadata": {
        "colab": {
          "base_uri": "https://localhost:8080/"
        },
        "id": "9v_zwelZlc6l",
        "outputId": "9bf4bd7b-2fb5-4020-cd35-f2e7ffdc4fb1"
      },
      "execution_count": 14,
      "outputs": [
        {
          "output_type": "stream",
          "name": "stdout",
          "text": [
            "[3 2 0 1 2]\n"
          ]
        }
      ]
    },
    {
      "cell_type": "markdown",
      "source": [
        "Exercise 3 : Working With Multi-Dimensional Arrays\n",
        "\n",
        "Create a 3x3 NumPy array with values ranging from 1 to 9."
      ],
      "metadata": {
        "id": "HvVLiSU2mUPq"
      }
    },
    {
      "cell_type": "code",
      "source": [
        "ml_ar=np.array([range(1,10)]).reshape(3,3)\n",
        "print(ml_ar)"
      ],
      "metadata": {
        "colab": {
          "base_uri": "https://localhost:8080/"
        },
        "id": "R6uNAlQLmTaY",
        "outputId": "c291ee4e-7c85-4f87-d50f-0ff46329161b"
      },
      "execution_count": 11,
      "outputs": [
        {
          "output_type": "stream",
          "name": "stdout",
          "text": [
            "[[1 2 3]\n",
            " [4 5 6]\n",
            " [7 8 9]]\n"
          ]
        }
      ]
    },
    {
      "cell_type": "markdown",
      "source": [
        "Exercise 4 : Creating Multi-Dimensional Array With Random Numbers\n",
        "\n",
        "Create a 2D NumPy array of shape (4, 5) filled with random numbers."
      ],
      "metadata": {
        "id": "aUmu7VgVmzh-"
      }
    },
    {
      "cell_type": "code",
      "source": [
        "md_ar=np.random.rand(4,5)\n",
        "print(md_ar)"
      ],
      "metadata": {
        "colab": {
          "base_uri": "https://localhost:8080/"
        },
        "id": "hFTmuuCvm7Hf",
        "outputId": "98d12668-ada4-4b88-8245-d4f6570cd79b"
      },
      "execution_count": 12,
      "outputs": [
        {
          "output_type": "stream",
          "name": "stdout",
          "text": [
            "[[0.02858011 0.5678721  0.53424439 0.27071706 0.78947076]\n",
            " [0.43749736 0.43881335 0.57791784 0.26868041 0.78889567]\n",
            " [0.99310498 0.57188226 0.74035833 0.97137333 0.20553309]\n",
            " [0.23512439 0.31717736 0.20906136 0.20014283 0.90483207]]\n"
          ]
        }
      ]
    },
    {
      "cell_type": "markdown",
      "source": [
        "Exercise 5 : Indexing Arrays\n",
        "\n",
        "Select the second row from a given 2D NumPy array."
      ],
      "metadata": {
        "id": "hf7WCltSnD4m"
      }
    },
    {
      "cell_type": "code",
      "source": [
        "second_row=md_ar[1]\n",
        "print(second_row)"
      ],
      "metadata": {
        "colab": {
          "base_uri": "https://localhost:8080/"
        },
        "id": "JG8RiAtWnH0Q",
        "outputId": "cdf75df3-2e35-4fb3-eac4-8f568caf5c2f"
      },
      "execution_count": 13,
      "outputs": [
        {
          "output_type": "stream",
          "name": "stdout",
          "text": [
            "[0.43749736 0.43881335 0.57791784 0.26868041 0.78889567]\n"
          ]
        }
      ]
    },
    {
      "cell_type": "markdown",
      "source": [
        "Exercise 6 : Reversing Elements\n",
        "\n",
        "Reverse the order of elements in a given 1D NumPy array (first element becomes last)."
      ],
      "metadata": {
        "id": "LXplj44CnnER"
      }
    },
    {
      "cell_type": "code",
      "source": [
        "reversed_ar=np.flip(ar)\n",
        "print(reversed_ar)"
      ],
      "metadata": {
        "colab": {
          "base_uri": "https://localhost:8080/"
        },
        "id": "6OentS2wn3ak",
        "outputId": "29f1b536-3be8-412e-b811-1707b6002348"
      },
      "execution_count": 16,
      "outputs": [
        {
          "output_type": "stream",
          "name": "stdout",
          "text": [
            "[[9 8 7 6 5 4 3 2 1 0]]\n"
          ]
        }
      ]
    },
    {
      "cell_type": "markdown",
      "source": [
        "Exercise 7 : Identity Matrix\n",
        "\n",
        "Create a 4x4 identity matrix using NumPy."
      ],
      "metadata": {
        "id": "1M1ayMB6oDUS"
      }
    },
    {
      "cell_type": "code",
      "source": [
        "im=np.eye(4)\n",
        "print(im)"
      ],
      "metadata": {
        "colab": {
          "base_uri": "https://localhost:8080/"
        },
        "id": "qtORxdbqoIzZ",
        "outputId": "10b13529-2fe1-4a1d-a485-973c191a98da"
      },
      "execution_count": 17,
      "outputs": [
        {
          "output_type": "stream",
          "name": "stdout",
          "text": [
            "[[1. 0. 0. 0.]\n",
            " [0. 1. 0. 0.]\n",
            " [0. 0. 1. 0.]\n",
            " [0. 0. 0. 1.]]\n"
          ]
        }
      ]
    },
    {
      "cell_type": "markdown",
      "source": [
        "Exercise 8 : Simple Aggregate Funcs\n",
        "\n",
        "Find the sum and average of a given 1D array."
      ],
      "metadata": {
        "id": "M5xnLTqeoRk9"
      }
    },
    {
      "cell_type": "code",
      "source": [
        "sum_of_ar=np.sum(ar)\n",
        "print(\"Sum: \", sum_of_ar)\n",
        "avg_of_ar=np.mean(ar)\n",
        "print(\"Average: \",avg_of_ar)"
      ],
      "metadata": {
        "colab": {
          "base_uri": "https://localhost:8080/"
        },
        "id": "T_PrflAMoOI9",
        "outputId": "a446d781-23a5-45ed-d02f-6c33064c1ddc"
      },
      "execution_count": 19,
      "outputs": [
        {
          "output_type": "stream",
          "name": "stdout",
          "text": [
            "Sum:  45\n",
            "Average:  4.5\n"
          ]
        }
      ]
    },
    {
      "cell_type": "markdown",
      "source": [
        "Exercise 9 : Create Array And Change Its Structure\n",
        "\n",
        "Create a NumPy array with elements from 1 to 20; then reshape it into a 4x5 matrix."
      ],
      "metadata": {
        "id": "KS5HVNkmpLpL"
      }
    },
    {
      "cell_type": "code",
      "source": [
        "new_ar=np.array([range(1,21)]).reshape(4,5)\n",
        "print(new_ar)"
      ],
      "metadata": {
        "colab": {
          "base_uri": "https://localhost:8080/"
        },
        "id": "NSYCqvkbpRUp",
        "outputId": "f7d9132a-3571-45d7-a13c-f3a29ab4fcc8"
      },
      "execution_count": 20,
      "outputs": [
        {
          "output_type": "stream",
          "name": "stdout",
          "text": [
            "[[ 1  2  3  4  5]\n",
            " [ 6  7  8  9 10]\n",
            " [11 12 13 14 15]\n",
            " [16 17 18 19 20]]\n"
          ]
        }
      ]
    },
    {
      "cell_type": "markdown",
      "source": [
        "Exercise 10 : Conditional Selection Of Values\n",
        "\n",
        "Extract all odd numbers from a given NumPy array."
      ],
      "metadata": {
        "id": "fjb6N0Jipa4F"
      }
    },
    {
      "cell_type": "code",
      "source": [
        "odd_numbers=new_ar[new_ar%2==1]\n",
        "print(odd_numbers)"
      ],
      "metadata": {
        "colab": {
          "base_uri": "https://localhost:8080/"
        },
        "id": "_W9FCw6rpftB",
        "outputId": "963452ed-686a-49b7-b646-d77a93842043"
      },
      "execution_count": 21,
      "outputs": [
        {
          "output_type": "stream",
          "name": "stdout",
          "text": [
            "[ 1  3  5  7  9 11 13 15 17 19]\n"
          ]
        }
      ]
    }
  ]
}